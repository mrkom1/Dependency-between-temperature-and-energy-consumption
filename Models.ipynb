{
 "cells": [
  {
   "cell_type": "code",
   "execution_count": 11,
   "metadata": {},
   "outputs": [],
   "source": [
    "from ipywidgets import *\n",
    "import warnings\n",
    "warnings.filterwarnings('ignore')\n",
    "warnings.filterwarnings(action='ignore', category=DeprecationWarning)"
   ]
  },
  {
   "cell_type": "code",
   "execution_count": 2,
   "metadata": {},
   "outputs": [
    {
     "name": "stderr",
     "output_type": "stream",
     "text": [
      "/Library/Frameworks/Python.framework/Versions/3.6/lib/python3.6/site-packages/pandas_profiling/plot.py:15: UserWarning: matplotlib.pyplot as already been imported, this call will have no effect.\n",
      "  matplotlib.use(BACKEND)\n",
      "Using TensorFlow backend.\n"
     ]
    }
   ],
   "source": [
    "import re\n",
    "import numpy as np\n",
    "from sklearn.model_selection import train_test_split\n",
    "from sklearn.ensemble import RandomForestClassifier\n",
    "from sklearn.gaussian_process import GaussianProcessClassifier\n",
    "from sklearn.gaussian_process.kernels import RBF\n",
    "from mlxtend.plotting import plot_decision_regions\n",
    "import matplotlib.pyplot as plt\n",
    "import seaborn as sns\n",
    "import pandas as pd\n",
    "import pandas_profiling as pp\n",
    "import os\n",
    "import glob\n",
    "import sys\n",
    "from sksurv.linear_model import CoxPHSurvivalAnalysis\n",
    "from sklearn import svm\n",
    "from sklearn.metrics import roc_auc_score\n",
    "from sklearn.metrics import recall_score\n",
    "from sklearn.metrics import f1_score\n",
    "from sklearn.model_selection import LeaveOneOut\n",
    "from scipy import stats\n",
    "from itertools import combinations\n",
    "from keras.layers import Activation, LSTM, Input, MaxPooling2D, Flatten, Dense, Dropout, Reshape, InputLayer, Conv1D, AveragePooling1D, MaxPooling1D, Conv2D, AveragePooling2D\n",
    "from keras.models import Sequential\n",
    "from keras.optimizers import SGD, Adam\n",
    "from keras.callbacks import EarlyStopping, ModelCheckpoint\n",
    "import keras.backend as K\n",
    "from keras.utils.generic_utils import get_custom_objects\n",
    "from keras.layers import LeakyReLU\n",
    "import keras_metrics\n",
    "from xgboost import XGBClassifier\n",
    "warnings.filterwarnings(action='ignore', category=DeprecationWarning)\n",
    "\n",
    "plt.rcParams[\"figure.figsize\"] = [10,10]\n",
    "%matplotlib inline"
   ]
  },
  {
   "cell_type": "markdown",
   "metadata": {},
   "source": [
    "# Read data"
   ]
  },
  {
   "cell_type": "code",
   "execution_count": 3,
   "metadata": {},
   "outputs": [
    {
     "data": {
      "text/html": [
       "<div>\n",
       "<style scoped>\n",
       "    .dataframe tbody tr th:only-of-type {\n",
       "        vertical-align: middle;\n",
       "    }\n",
       "\n",
       "    .dataframe tbody tr th {\n",
       "        vertical-align: top;\n",
       "    }\n",
       "\n",
       "    .dataframe thead th {\n",
       "        text-align: right;\n",
       "    }\n",
       "</style>\n",
       "<table border=\"1\" class=\"dataframe\">\n",
       "  <thead>\n",
       "    <tr style=\"text-align: right;\">\n",
       "      <th></th>\n",
       "      <th></th>\n",
       "      <th>TLE</th>\n",
       "      <th>TRE</th>\n",
       "      <th>TLA</th>\n",
       "      <th>TRA</th>\n",
       "      <th>TLL</th>\n",
       "      <th>TRL</th>\n",
       "      <th>Load  [W]</th>\n",
       "      <th>HR  [1/min]</th>\n",
       "      <th>VO2/kg  [ml/min/kg]</th>\n",
       "      <th>RER</th>\n",
       "      <th>V'O2  [ml/min]</th>\n",
       "      <th>V'CO2  [ml/min]</th>\n",
       "      <th>FAT  [g/day]</th>\n",
       "      <th>CHO  [g/day]</th>\n",
       "      <th>DIFF_FAT_CHO</th>\n",
       "      <th>y</th>\n",
       "      <th>Probability</th>\n",
       "      <th>Time_feature</th>\n",
       "    </tr>\n",
       "    <tr>\n",
       "      <th>Name</th>\n",
       "      <th>Time</th>\n",
       "      <th></th>\n",
       "      <th></th>\n",
       "      <th></th>\n",
       "      <th></th>\n",
       "      <th></th>\n",
       "      <th></th>\n",
       "      <th></th>\n",
       "      <th></th>\n",
       "      <th></th>\n",
       "      <th></th>\n",
       "      <th></th>\n",
       "      <th></th>\n",
       "      <th></th>\n",
       "      <th></th>\n",
       "      <th></th>\n",
       "      <th></th>\n",
       "      <th></th>\n",
       "      <th></th>\n",
       "    </tr>\n",
       "  </thead>\n",
       "  <tbody>\n",
       "    <tr>\n",
       "      <th rowspan=\"5\" valign=\"top\">ARHIPCHUK</th>\n",
       "      <th>00:06:05</th>\n",
       "      <td>38.180571</td>\n",
       "      <td>38.234562</td>\n",
       "      <td>33.480730</td>\n",
       "      <td>33.423765</td>\n",
       "      <td>31.942529</td>\n",
       "      <td>31.737343</td>\n",
       "      <td>65.0</td>\n",
       "      <td>95.0</td>\n",
       "      <td>10.800</td>\n",
       "      <td>0.7500</td>\n",
       "      <td>889.00</td>\n",
       "      <td>663.00</td>\n",
       "      <td>0.982778</td>\n",
       "      <td>-1.483108</td>\n",
       "      <td>1.242050</td>\n",
       "      <td>1.0</td>\n",
       "      <td>0.964938</td>\n",
       "      <td>0.101389</td>\n",
       "    </tr>\n",
       "    <tr>\n",
       "      <th>00:06:06</th>\n",
       "      <td>38.188642</td>\n",
       "      <td>38.245826</td>\n",
       "      <td>33.488879</td>\n",
       "      <td>33.429575</td>\n",
       "      <td>31.939272</td>\n",
       "      <td>31.740192</td>\n",
       "      <td>65.0</td>\n",
       "      <td>95.0</td>\n",
       "      <td>11.950</td>\n",
       "      <td>0.7350</td>\n",
       "      <td>983.50</td>\n",
       "      <td>720.50</td>\n",
       "      <td>0.976392</td>\n",
       "      <td>-1.480704</td>\n",
       "      <td>1.240784</td>\n",
       "      <td>1.0</td>\n",
       "      <td>0.964938</td>\n",
       "      <td>0.101667</td>\n",
       "    </tr>\n",
       "    <tr>\n",
       "      <th>00:06:07</th>\n",
       "      <td>38.196713</td>\n",
       "      <td>38.257091</td>\n",
       "      <td>33.497028</td>\n",
       "      <td>33.435385</td>\n",
       "      <td>31.936014</td>\n",
       "      <td>31.743042</td>\n",
       "      <td>65.0</td>\n",
       "      <td>95.0</td>\n",
       "      <td>13.100</td>\n",
       "      <td>0.7200</td>\n",
       "      <td>1078.00</td>\n",
       "      <td>778.00</td>\n",
       "      <td>0.971934</td>\n",
       "      <td>-1.478297</td>\n",
       "      <td>1.239212</td>\n",
       "      <td>1.0</td>\n",
       "      <td>0.964938</td>\n",
       "      <td>0.101944</td>\n",
       "    </tr>\n",
       "    <tr>\n",
       "      <th>00:06:08</th>\n",
       "      <td>38.197452</td>\n",
       "      <td>38.261386</td>\n",
       "      <td>33.497303</td>\n",
       "      <td>33.437303</td>\n",
       "      <td>31.934358</td>\n",
       "      <td>31.743920</td>\n",
       "      <td>65.0</td>\n",
       "      <td>95.0</td>\n",
       "      <td>14.675</td>\n",
       "      <td>0.7325</td>\n",
       "      <td>1206.75</td>\n",
       "      <td>891.25</td>\n",
       "      <td>0.968768</td>\n",
       "      <td>-1.475808</td>\n",
       "      <td>1.237392</td>\n",
       "      <td>1.0</td>\n",
       "      <td>0.964938</td>\n",
       "      <td>0.102222</td>\n",
       "    </tr>\n",
       "    <tr>\n",
       "      <th>00:06:09</th>\n",
       "      <td>38.198191</td>\n",
       "      <td>38.265682</td>\n",
       "      <td>33.497579</td>\n",
       "      <td>33.439222</td>\n",
       "      <td>31.932701</td>\n",
       "      <td>31.744799</td>\n",
       "      <td>65.0</td>\n",
       "      <td>95.0</td>\n",
       "      <td>16.250</td>\n",
       "      <td>0.7450</td>\n",
       "      <td>1335.50</td>\n",
       "      <td>1004.50</td>\n",
       "      <td>0.966391</td>\n",
       "      <td>-1.473174</td>\n",
       "      <td>1.235379</td>\n",
       "      <td>1.0</td>\n",
       "      <td>0.964938</td>\n",
       "      <td>0.102500</td>\n",
       "    </tr>\n",
       "  </tbody>\n",
       "</table>\n",
       "</div>"
      ],
      "text/plain": [
       "                          TLE        TRE        TLA        TRA        TLL  \\\n",
       "Name      Time                                                              \n",
       "ARHIPCHUK 00:06:05  38.180571  38.234562  33.480730  33.423765  31.942529   \n",
       "          00:06:06  38.188642  38.245826  33.488879  33.429575  31.939272   \n",
       "          00:06:07  38.196713  38.257091  33.497028  33.435385  31.936014   \n",
       "          00:06:08  38.197452  38.261386  33.497303  33.437303  31.934358   \n",
       "          00:06:09  38.198191  38.265682  33.497579  33.439222  31.932701   \n",
       "\n",
       "                          TRL  Load  [W]  HR  [1/min]  VO2/kg  [ml/min/kg]  \\\n",
       "Name      Time                                                               \n",
       "ARHIPCHUK 00:06:05  31.737343       65.0         95.0               10.800   \n",
       "          00:06:06  31.740192       65.0         95.0               11.950   \n",
       "          00:06:07  31.743042       65.0         95.0               13.100   \n",
       "          00:06:08  31.743920       65.0         95.0               14.675   \n",
       "          00:06:09  31.744799       65.0         95.0               16.250   \n",
       "\n",
       "                     RER    V'O2  [ml/min]  V'CO2  [ml/min]  FAT  [g/day]  \\\n",
       "Name      Time                                                              \n",
       "ARHIPCHUK 00:06:05  0.7500          889.00           663.00      0.982778   \n",
       "          00:06:06  0.7350          983.50           720.50      0.976392   \n",
       "          00:06:07  0.7200         1078.00           778.00      0.971934   \n",
       "          00:06:08  0.7325         1206.75           891.25      0.968768   \n",
       "          00:06:09  0.7450         1335.50          1004.50      0.966391   \n",
       "\n",
       "                    CHO  [g/day]  DIFF_FAT_CHO    y  Probability  Time_feature  \n",
       "Name      Time                                                                  \n",
       "ARHIPCHUK 00:06:05     -1.483108      1.242050  1.0     0.964938      0.101389  \n",
       "          00:06:06     -1.480704      1.240784  1.0     0.964938      0.101667  \n",
       "          00:06:07     -1.478297      1.239212  1.0     0.964938      0.101944  \n",
       "          00:06:08     -1.475808      1.237392  1.0     0.964938      0.102222  \n",
       "          00:06:09     -1.473174      1.235379  1.0     0.964938      0.102500  "
      ]
     },
     "execution_count": 3,
     "metadata": {},
     "output_type": "execute_result"
    }
   ],
   "source": [
    "full_df = pd.read_pickle(\"./data/data_first_measurement.pkl\")\n",
    "full_df.head()"
   ]
  },
  {
   "cell_type": "code",
   "execution_count": 6,
   "metadata": {},
   "outputs": [],
   "source": [
    "# set lists variables\n",
    "fat_cols = ['FAT  [g/day]', 'CHO  [g/day]']\n",
    "all_temp_cols = [\"TRE\", \"TLE\", \"TLA\", \"TRA\", \"TLL\", \"TRL\"]\n",
    "temp_arms = ['TLE', 'TRE']\n",
    "temp_arms = all_temp_cols[2:4]\n",
    "temp_legs = all_temp_cols[4:]\n",
    "temp_time_cols = temp_cols + [\"Time_feature\"]\n",
    "temp_prob_cols = temp_cols + [\"Probability\"]\n",
    "subjects = np.array(list(set(full_df.index.get_level_values(\"Name\"))))\n",
    "\n",
    "# normalize temperatures\n",
    "full_df_norm = full_df.copy()"
   ]
  },
  {
   "cell_type": "markdown",
   "metadata": {},
   "source": [
    "# functions for models"
   ]
  },
  {
   "cell_type": "code",
   "execution_count": 8,
   "metadata": {},
   "outputs": [],
   "source": [
    "def crossvalidate(method, df = full_df,  cols = temp_cols + [\"Probability\"],nn = False):\n",
    "    scores = []\n",
    "    x_axis = []\n",
    "    y_axis = []\n",
    "    loo = LeaveOneOut()\n",
    "    for train, test in loo.split(subjects):\n",
    "        X_train = np.array(df.loc[subjects[train]][cols])\n",
    "        y_train = np.array(df.loc[subjects[train]][\"y\"]).astype(np.integer)\n",
    "\n",
    "        X_test = np.array(df.loc[subjects[test]][cols])\n",
    "        y_test = np.array(df.loc[subjects[test]][\"y\"]).astype(np.integer)\n",
    "        \n",
    "        ddf  = full_df.loc[subjects[test]][\"y\"].to_frame(\"true\")\n",
    "        \n",
    "        if nn:\n",
    "            model = get_model()\n",
    "            model.fit(X_train, y_train, epochs=10, verbose = 1, batch_size = 80)\n",
    "            pred = np.where((model.predict(X_test).reshape(-1,)) > 0.5, 1, 0)\n",
    "            ddf[\"predict\"] = pred\n",
    "            true_jump = ddf[\"true\"].idxmin()[1].total_seconds()\n",
    "            predicted_jump = ddf[\"predict\"].idxmin()[1].total_seconds()\n",
    "            x_axis.append(true_jump)\n",
    "            y_axis.append(predicted_jump)\n",
    "            \n",
    "            scores.append((f1_score(pred,y_test),true_jump - predicted_jump))            \n",
    "        else:\n",
    "            method.fit(X_train, y_train)\n",
    "            pred = method.predict(X_test)\n",
    "            ddf[\"predict\"] = pred\n",
    "            true_jump = ddf[\"true\"].idxmin()[1].total_seconds()\n",
    "            predicted_jump = ddf[\"predict\"].idxmin()[1].total_seconds()\n",
    "            x_axis.append(true_jump)\n",
    "            y_axis.append(predicted_jump)\n",
    "            scores.append((f1_score(pred,y_test),true_jump - predicted_jump))\n",
    "        \n",
    "    print(scores)\n",
    "    print(np.mean(np.abs(np.array(scores)), axis = 0))\n",
    "    ax = plt.axes()\n",
    "    ax.set_xlim(300, 900)\n",
    "    ax.set_ylim(300, 900)\n",
    "    plt.plot(ax.get_xlim(), ax.get_ylim(), ls=\"--\", c=\".3\")\n",
    "    plt.xlabel(\"true\")\n",
    "    plt.ylabel(\"prediction\")\n",
    "    plt.plot(x_axis, y_axis,'ro')\n",
    "    \n",
    "def train_test(df, cols, test_size=0.15):\n",
    "    X = np.array(df[cols])\n",
    "    y = np.array(df[\"y\"])\n",
    "    X_train, X_test, y_train, y_test = train_test_split(X, y, test_size=test_size, random_state=10)\n",
    "    y_train = y_train.astype(np.integer)\n",
    "    y_test = y_test.astype(np.integer)\n",
    "    print(\"train\")\n",
    "    print(np.bincount(y_train))\n",
    "    print(\"test\")\n",
    "    print(np.bincount(y_test))\n",
    "    \n",
    "    return X_train, X_test, y_train, y_test\n",
    "\n",
    "def plot_predictions(method ,cols, df = full_df, sub = subjects[0]):    \n",
    "    temp_df = pd.DataFrame()\n",
    "    temp_df[\"true\"] = df.xs(sub)[\"y\"]\n",
    "    temp_df[\"predict\"] = method.predict(df.xs(sub)[cols].values)\n",
    "    temp_df[\"bin_predict\"] = np.where(temp_df[\"predict\"].values > 0.5, 1, 0)\n",
    "    print(temp_df[\"true\"].idxmin().total_seconds() - temp_df[\"bin_predict\"].idxmin().total_seconds())\n",
    "    temp_df[[\"true\",\"predict\"]].plot()\n",
    "\n",
    "def plot_all_predictions(method ,cols, df = full_df):\n",
    "    sub = SelectionSlider(options=subjects)\n",
    "    interact(lambda subject: plot_predictions(method ,cols, df, sub = subject), subject=sub)"
   ]
  },
  {
   "cell_type": "markdown",
   "metadata": {},
   "source": [
    " "
   ]
  },
  {
   "cell_type": "markdown",
   "metadata": {},
   "source": [
    " "
   ]
  },
  {
   "cell_type": "markdown",
   "metadata": {},
   "source": [
    "#  6 inputs ( all temps )"
   ]
  },
  {
   "cell_type": "markdown",
   "metadata": {},
   "source": [
    " "
   ]
  },
  {
   "cell_type": "markdown",
   "metadata": {},
   "source": [
    " "
   ]
  },
  {
   "cell_type": "code",
   "execution_count": 14,
   "metadata": {},
   "outputs": [
    {
     "name": "stdout",
     "output_type": "stream",
     "text": [
      "train\n",
      "[6789 4715]\n",
      "test\n",
      "[1219  812]\n"
     ]
    }
   ],
   "source": [
    "X_train, X_test, y_train, y_test = train_test(full_df_norm, all_temp_cols)"
   ]
  },
  {
   "cell_type": "markdown",
   "metadata": {},
   "source": [
    "### SVM"
   ]
  },
  {
   "cell_type": "code",
   "execution_count": 15,
   "metadata": {
    "scrolled": true
   },
   "outputs": [
    {
     "name": "stdout",
     "output_type": "stream",
     "text": [
      "test\n",
      "0.9789081885856079\n"
     ]
    },
    {
     "data": {
      "application/vnd.jupyter.widget-view+json": {
       "model_id": "91ffde53f12c4bc99629dac552088a35",
       "version_major": 2,
       "version_minor": 0
      },
      "text/plain": [
       "interactive(children=(SelectionSlider(description='subject', options=('TARANEK', 'VOVA', 'PEREPICA', 'YAN', 'M…"
      ]
     },
     "metadata": {},
     "output_type": "display_data"
    }
   ],
   "source": [
    "svc = svm.SVC(kernel='rbf', C=500)\n",
    "svc.fit(X_train, y_train)\n",
    "\n",
    "print(\"test\")\n",
    "print(f1_score(svc.predict(X_test),y_test))\n",
    "plot_all_predictions(svc, all_temp_cols, full_df_norm)"
   ]
  },
  {
   "cell_type": "code",
   "execution_count": 16,
   "metadata": {},
   "outputs": [
    {
     "name": "stdout",
     "output_type": "stream",
     "text": [
      "crossvalidate\n",
      "[(0.0, 183.0), (0.0, 200.0), (0.0, 208.0), (0.6407766990291262, 111.0), (0.664944013781223, 386.0), (0.0, 241.0), (0.5690140845070423, 98.0), (0.5382513661202185, 197.0), (0.6018735362997658, 257.0), (0.0, 289.0), (0.6227390180878553, 241.0), (0.6333973128598849, 138.0), (0.6203346203346203, 241.0), (0.34523809523809523, 330.0), (0.0, 235.0), (0.0, 369.0), (0.22772277227722776, 217.0), (0.0, 191.0), (0.8575342465753425, -104.0), (0.42583732057416274, 178.0), (0.6339794754846066, -321.0), (0.6418918918918919, -212.0)]\n",
      "[  0.36470611 224.86363636]\n"
     ]
    },
    {
     "data": {
      "image/png": "[encoded data removed]",
      "text/plain": [
       "<Figure size 432x288 with 1 Axes>"
      ]
     },
     "metadata": {
      "needs_background": "light"
     },
     "output_type": "display_data"
    }
   ],
   "source": [
    "print(\"crossvalidate\")\n",
    "crossvalidate(svc, full_df_norm, cols = all_temp_cols)"
   ]
  },
  {
   "cell_type": "markdown",
   "metadata": {},
   "source": [
    "### Random Forest"
   ]
  },
  {
   "cell_type": "code",
   "execution_count": 18,
   "metadata": {},
   "outputs": [
    {
     "name": "stdout",
     "output_type": "stream",
     "text": [
      "test\n",
      "0.9975308641975309\n"
     ]
    },
    {
     "data": {
      "application/vnd.jupyter.widget-view+json": {
       "model_id": "d1f357d014fb497db5578ba0e0644832",
       "version_major": 2,
       "version_minor": 0
      },
      "text/plain": [
       "interactive(children=(SelectionSlider(description='subject', options=('TARANEK', 'VOVA', 'PEREPICA', 'YAN', 'M…"
      ]
     },
     "metadata": {},
     "output_type": "display_data"
    }
   ],
   "source": [
    "clf = RandomForestClassifier(n_estimators= 100, max_depth=15, random_state=0)\n",
    "clf.fit(X_train, y_train)\n",
    "\n",
    "print(\"test\")\n",
    "print(f1_score(clf.predict(X_test),y_test))\n",
    "plot_all_predictions(clf, all_temp_cols, full_df_norm)"
   ]
  },
  {
   "cell_type": "code",
   "execution_count": 19,
   "metadata": {},
   "outputs": [
    {
     "name": "stdout",
     "output_type": "stream",
     "text": [
      "crossvalidate\n",
      "[(0.6376306620209059, -208.0), (0.0, 200.0), (0.0, 208.0), (0.4782608695652174, 210.0), (0.0, 386.0), (0.0, 241.0), (0.5117004680187207, -313.0), (0.5382513661202185, 197.0), (0.6018735362997658, 257.0), (0.0, 289.0), (0.0, 241.0), (0.7779204107830552, -155.0), (0.6203346203346203, 241.0), (0.0, 417.0), (0.0, 235.0), (0.8540372670807453, 94.0), (0.0, 236.0), (0.0, 191.0), (0.7844660194174757, 112.0), (0.42583732057416274, 178.0), (0.5732349841938883, 120.0), (0.555956678700361, 125.0)]\n",
      "[  0.33452292 220.63636364]\n"
     ]
    },
    {
     "data": {
      "image/png": "[encoded data removed]",
      "text/plain": [
       "<Figure size 432x288 with 1 Axes>"
      ]
     },
     "metadata": {
      "needs_background": "light"
     },
     "output_type": "display_data"
    }
   ],
   "source": [
    "print(\"crossvalidate\")\n",
    "crossvalidate(clf, full_df_norm, cols = all_temp_cols)"
   ]
  },
  {
   "cell_type": "markdown",
   "metadata": {},
   "source": [
    "### XG Boost"
   ]
  },
  {
   "cell_type": "code",
   "execution_count": 21,
   "metadata": {},
   "outputs": [
    {
     "name": "stdout",
     "output_type": "stream",
     "text": [
      "test\n",
      "0.9963008631319359\n",
      "feature importances\n",
      "[0.14675194 0.15079097 0.18983507 0.17165938 0.17401548 0.16694716]\n"
     ]
    }
   ],
   "source": [
    "xg = XGBClassifier(n_estimators=100, max_depth=8, learning_rate=0.1, subsample=0.5)\n",
    "xg.fit(X_train, y_train)\n",
    "print(\"test\")\n",
    "print(f1_score(xg.predict(X_test),y_test))\n",
    "print(\"feature importances\")\n",
    "print(xg.feature_importances_)"
   ]
  },
  {
   "cell_type": "code",
   "execution_count": 22,
   "metadata": {},
   "outputs": [
    {
     "name": "stdout",
     "output_type": "stream",
     "text": [
      "[(0.5604900459418071, -287.0), (0.0, 200.0), (0.0, 208.0), (0.4615384615384615, 210.0), (0.0, 386.0), (0.0, 241.0), (0.5109034267912773, 164.0), (0.5382513661202185, 197.0), (0.6018735362997658, 257.0), (0.0, 289.0), (0.0, 241.0), (0.7390243902439024, -187.0), (0.6203346203346203, 241.0), (0.2923497267759563, 417.0), (0.0, 235.0), (0.8540372670807453, 94.0), (0.0, 236.0), (0.0, 191.0), (0.5675057208237986, 313.0), (0.42583732057416274, 178.0), (0.5677267373380448, 121.0), (0.6246246246246246, 97.0)]\n",
      "[  0.33474987 226.81818182]\n"
     ]
    },
    {
     "data": {
      "image/png": "[encoded data removed]",
      "text/plain": [
       "<Figure size 432x288 with 1 Axes>"
      ]
     },
     "metadata": {
      "needs_background": "light"
     },
     "output_type": "display_data"
    }
   ],
   "source": [
    "crossvalidate(xg, full_df_norm, cols = all_temp_cols)"
   ]
  },
  {
   "cell_type": "markdown",
   "metadata": {},
   "source": [
    " "
   ]
  },
  {
   "cell_type": "markdown",
   "metadata": {},
   "source": [
    " "
   ]
  },
  {
   "cell_type": "markdown",
   "metadata": {},
   "source": [
    "# 6 inputs (temperature + time)"
   ]
  },
  {
   "cell_type": "markdown",
   "metadata": {},
   "source": [
    " "
   ]
  },
  {
   "cell_type": "markdown",
   "metadata": {},
   "source": [
    " "
   ]
  },
  {
   "cell_type": "code",
   "execution_count": 55,
   "metadata": {
    "scrolled": true
   },
   "outputs": [
    {
     "name": "stdout",
     "output_type": "stream",
     "text": [
      "train\n",
      "[6789 4715]\n",
      "test\n",
      "[1219  812]\n"
     ]
    }
   ],
   "source": [
    "temps_6_time = all_temp_cols + [\"Time_feature\"]\n",
    "X_train, X_test, y_train, y_test = train_test(full_df_norm, temps_6_time)"
   ]
  },
  {
   "cell_type": "markdown",
   "metadata": {},
   "source": [
    "### Random Forest"
   ]
  },
  {
   "cell_type": "code",
   "execution_count": 24,
   "metadata": {},
   "outputs": [
    {
     "name": "stdout",
     "output_type": "stream",
     "text": [
      "crossvalidate\n",
      "[(0.8652482269503545, -57.0), (0.9187935034802784, 2.0), (0.9306487695749441, -31.0), (0.7984790874524714, -35.0), (0.6981450252951096, 179.0), (0.9873949579831932, 6.0), (0.8840970350404312, -43.0), (0.8716814159292036, -44.0), (0.9162210338680927, -47.0), (0.890595009596929, 57.0), (0.8385542168674698, 67.0), (0.9159212880143113, 47.0), (0.8942486085343229, -13.0), (0.6740858505564388, 205.0), (0.908675799086758, 235.0), (0.8229665071770336, 111.0), (0.9957805907172996, -2.0), (0.9813333333333333, 7.0), (0.7725490196078431, 116.0), (0.7370600414078675, -127.0), (0.9348659003831418, 34.0), (0.8899297423887588, -47.0)]\n",
      "[ 0.86942159 68.72727273]\n"
     ]
    },
    {
     "data": {
      "image/png": "[encoded data removed]",
      "text/plain": [
       "<Figure size 432x288 with 1 Axes>"
      ]
     },
     "metadata": {
      "needs_background": "light"
     },
     "output_type": "display_data"
    }
   ],
   "source": [
    "clf = RandomForestClassifier(n_estimators= 100, max_depth=15, random_state=0)\n",
    "# clf.fit(X_train, y_train)\n",
    "# print(\"test\")\n",
    "# print(f1_score(clf.predict(X_test),y_test))\n",
    "# plot_all_predictions(clf, temps_5_time, full_df_norm)\n",
    "print(\"crossvalidate\")\n",
    "crossvalidate(clf, full_df_norm, cols = temps_6_time)"
   ]
  },
  {
   "cell_type": "markdown",
   "metadata": {},
   "source": [
    "### SVM"
   ]
  },
  {
   "cell_type": "code",
   "execution_count": 25,
   "metadata": {},
   "outputs": [
    {
     "name": "stdout",
     "output_type": "stream",
     "text": [
      "[(0.47225806451612906, -29.0), (0.0, 200.0), (0.72, 91.0), (0.997624703087886, -1.0), (0.0, 386.0), (0.6495956873315364, -94.0), (0.870026525198939, -49.0), (0.615625, -246.0), (0.6377171215880894, -292.0), (0.46276595744680854, 202.0), (0.6227390180878553, 241.0), (0.434108527131783, 219.0), (0.7461300309597523, -164.0), (0.5342706502636204, 265.0), (0.008474576271186442, 234.0), (0.3991323210412147, 277.0), (0.8805970149253731, -63.0), (0.0, 191.0), (0.8380187416331996, -121.0), (0.5510835913312694, -253.0), (0.756152125279642, 109.0), (0.6713780918727916, -186.0)]\n",
      "[  0.53944081 177.86363636]\n"
     ]
    },
    {
     "data": {
      "image/png": "[encoded data removed]",
      "text/plain": [
       "<Figure size 432x288 with 1 Axes>"
      ]
     },
     "metadata": {
      "needs_background": "light"
     },
     "output_type": "display_data"
    }
   ],
   "source": [
    "svc = svm.SVC(kernel='rbf', C=500)\n",
    "# svc.fit(X_train, y_train)\n",
    "# print(\"test\")\n",
    "# print(f1_score(svc.predict(X_test),y_test))\n",
    "# plot_all_predictions(svc, temps_5_time, full_df_norm)\n",
    "# print(\"crossvalidate\")\n",
    "crossvalidate(svc, full_df_norm, cols = temps_6_time)"
   ]
  },
  {
   "cell_type": "markdown",
   "metadata": {},
   "source": [
    "### XG Boost"
   ]
  },
  {
   "cell_type": "code",
   "execution_count": 33,
   "metadata": {},
   "outputs": [
    {
     "name": "stdout",
     "output_type": "stream",
     "text": [
      "[(0.8632075471698113, -58.0), (0.704, 34.0), (0.9223946784922394, -35.0), (0.715502555366269, -157.0), (0.6981450252951096, 179.0), (0.7927631578947368, -126.0), (0.9060773480662984, -34.0), (0.9270588235294117, -10.0), (0.9129662522202486, -49.0), (0.8969465648854962, 54.0), (0.8632075471698113, 66.0), (0.7682926829268292, 114.0), (0.8684684684684686, -73.0), (0.7247706422018348, 180.0), (0.9611451942740286, -19.0), (0.8835098335854766, 77.0), (0.9874476987447699, -6.0), (0.9675675675675676, 12.0), (0.8576642335766422, 78.0), (0.8476190476190476, -64.0), (0.9389312977099237, 32.0), (0.8796296296296297, -52.0)]\n",
      "[ 0.85851435 68.59090909]\n"
     ]
    },
    {
     "data": {
      "image/png": "[encoded data removed]",
      "text/plain": [
       "<Figure size 432x288 with 1 Axes>"
      ]
     },
     "metadata": {
      "needs_background": "light"
     },
     "output_type": "display_data"
    }
   ],
   "source": [
    "xg = XGBClassifier(n_estimators=100, max_depth=20, learning_rate=0.1, subsample=0.5)\n",
    "# xg.fit(X_train, y_train)\n",
    "# print(\"test\")\n",
    "# print(f1_score(xg.predict(X_test),y_test))\n",
    "# print(\"feature importances\")\n",
    "# print(xg.feature_importances_)\n",
    "# print(\"crossvalidate\")\n",
    "crossvalidate(xg, full_df_norm, cols = temps_6_time)"
   ]
  },
  {
   "cell_type": "markdown",
   "metadata": {},
   "source": [
    "### 3 inputs (temperature + Probability)"
   ]
  },
  {
   "cell_type": "code",
   "execution_count": 58,
   "metadata": {},
   "outputs": [
    {
     "name": "stdout",
     "output_type": "stream",
     "text": [
      "train\n",
      "[6789 4715]\n",
      "test\n",
      "[1219  812]\n"
     ]
    }
   ],
   "source": [
    "temp_6_probability = all_temp_cols + [\"Probability\"]\n",
    "X_train, X_test, y_train, y_test = train_test(full_df_norm, temp_6_probability)"
   ]
  },
  {
   "cell_type": "markdown",
   "metadata": {},
   "source": [
    "### Random Forest"
   ]
  },
  {
   "cell_type": "code",
   "execution_count": 29,
   "metadata": {},
   "outputs": [
    {
     "name": "stdout",
     "output_type": "stream",
     "text": [
      "crossvalidate\n",
      "[(0.9336734693877551, -26.0), (0.0, 200.0), (0.9803921568627451, 8.0), (0.7969639468690702, -107.0), (0.6573913043478261, 197.0), (0.9875518672199171, 3.0), (0.9136490250696379, -31.0), (0.8365180467091294, -75.0), (0.8970331588132636, -59.0), (0.9053030303030303, 50.0), (0.8413461538461537, 66.0), (0.9081081081081082, 58.0), (0.749611197511664, -75.0), (0.7325227963525835, 176.0), (0.9853249475890985, -7.0), (0.8229665071770336, 111.0), (0.9345372460496614, 29.0), (0.9840425531914894, 6.0), (0.7725490196078431, 116.0), (0.81651376146789, -80.0), (0.9287090558766861, 37.0), (0.8755760368663594, -54.0)]\n",
      "[ 0.83001288 71.40909091]\n"
     ]
    },
    {
     "data": {
      "image/png": "[encoded data removed]",
      "text/plain": [
       "<Figure size 432x288 with 1 Axes>"
      ]
     },
     "metadata": {
      "needs_background": "light"
     },
     "output_type": "display_data"
    }
   ],
   "source": [
    "clf = RandomForestClassifier(n_estimators= 120, max_depth=20, random_state=0)\n",
    "# clf.fit(X_train, y_train)\n",
    "# print(\"test\")\n",
    "# print(f1_score(clf.predict(X_test),y_test))\n",
    "# plot_all_predictions(clf, temps_5_time, full_df_norm)\n",
    "print(\"crossvalidate\")\n",
    "crossvalidate(clf, full_df_norm, cols = temp_6_probability)"
   ]
  },
  {
   "cell_type": "markdown",
   "metadata": {},
   "source": [
    "### SVM"
   ]
  },
  {
   "cell_type": "code",
   "execution_count": 30,
   "metadata": {},
   "outputs": [
    {
     "name": "stdout",
     "output_type": "stream",
     "text": [
      "crossvalidate\n",
      "[(0.7672955974842767, -7.0), (0.0, 200.0), (0.9976019184652278, -1.0), (0.8155339805825244, -95.0), (0.6550522648083624, 198.0), (0.9146110056925997, -37.0), (0.9590643274853802, -14.0), (0.8995433789954338, -44.0), (0.7717717717717717, -145.0), (0.8550295857988166, -98.0), (0.8413461538461537, 66.0), (0.8901098901098902, 60.0), (0.9288888888888889, 32.0), (0.8, 139.0), (0.9936575052854123, -3.0), (0.7610062893081762, 127.0), (0.9978858350951374, -1.0), (0.0, 191.0), (0.8821428571428571, 66.0), (0.0, 178.0), (0.9429657794676806, 30.0), (0.8755760368663594, -54.0)]\n",
      "[ 0.75223105 81.18181818]\n"
     ]
    },
    {
     "data": {
      "image/png": "[encoded data removed]",
      "text/plain": [
       "<Figure size 432x288 with 1 Axes>"
      ]
     },
     "metadata": {
      "needs_background": "light"
     },
     "output_type": "display_data"
    }
   ],
   "source": [
    "svc = svm.SVC(kernel='rbf', C=100)\n",
    "# svc.fit(X_train, y_train)\n",
    "# print(\"test\")\n",
    "# print(f1_score(svc.predict(X_test),y_test))\n",
    "# plot_all_predictions(svc, temp_6_probability, full_df_norm)\n",
    "print(\"crossvalidate\")\n",
    "crossvalidate(svc, full_df_norm, cols = temp_6_probability)"
   ]
  },
  {
   "cell_type": "markdown",
   "metadata": {},
   "source": [
    "### XG Boost"
   ]
  },
  {
   "cell_type": "code",
   "execution_count": 32,
   "metadata": {},
   "outputs": [
    {
     "name": "stdout",
     "output_type": "stream",
     "text": [
      "[(0.9336734693877551, -26.0), (0.8293736501079914, 8.0), (0.98812351543943, -2.0), (0.7540394973070018, -137.0), (0.6981450252951096, 179.0), (0.8700361010830324, -1.0), (0.9265536723163842, -26.0), (0.8995433789954338, -44.0), (0.9145907473309608, -48.0), (0.9787985865724381, 12.0), (0.8578199052132701, 60.0), (0.7732793522267206, 112.0), (0.8653500897666068, -75.0), (0.7363636363636364, 174.0), (0.9812108559498957, -9.0), (0.8229665071770336, 111.0), (0.9936842105263157, -3.0), (0.9675675675675676, 12.0), (0.7984644913627639, 105.0), (0.839622641509434, -68.0), (0.9287090558766861, 37.0), (0.8796296296296297, -52.0)]\n",
      "[ 0.87443389 59.13636364]\n"
     ]
    },
    {
     "data": {
      "image/png": "[encoded data removed]",
      "text/plain": [
       "<Figure size 432x288 with 1 Axes>"
      ]
     },
     "metadata": {
      "needs_background": "light"
     },
     "output_type": "display_data"
    }
   ],
   "source": [
    "xg = XGBClassifier(n_estimators=100, max_depth=20, learning_rate=0.1, subsample=0.5)\n",
    "# xg.fit(X_train, y_train)\n",
    "# print(\"test\")\n",
    "# print(f1_score(xg.predict(X_test),y_test))\n",
    "# print(\"feature importances\")\n",
    "# print(xg.feature_importances_)\n",
    "# print(\"crossvalidate\")\n",
    "crossvalidate(xg, full_df_norm, cols = temp_6_probability)"
   ]
  },
  {
   "cell_type": "markdown",
   "metadata": {},
   "source": [
    " ---------------------------------------------------------\n",
    " \n",
    " \n",
    " "
   ]
  },
  {
   "cell_type": "markdown",
   "metadata": {},
   "source": [
    "#                                                                         window inputs"
   ]
  },
  {
   "cell_type": "markdown",
   "metadata": {},
   "source": [
    " ---------------------------------------------------------\n",
    " \n",
    " \n",
    " "
   ]
  },
  {
   "cell_type": "code",
   "execution_count": 34,
   "metadata": {},
   "outputs": [],
   "source": [
    "window_size = 16\n",
    "\n",
    "def train_test_window(dataframe = full_df_norm, cols = temp_cols, window_size = 16 , test_size=0.15):\n",
    "    X = []\n",
    "    y = []\n",
    "    for sub in subjects[:-1]:\n",
    "        df = dataframe.loc[(sub),]\n",
    "        ids = (len(df) - window_size)\n",
    "        for j in range(ids):\n",
    "            X.append(np.array(df[cols][j:j+window_size]))\n",
    "            y.append(np.array(df[[\"y\"]][j+window_size-1:j+window_size]))\n",
    "    X = np.array(X)\n",
    "    y = (np.array(y).reshape(-1,)).astype(np.integer)\n",
    "    \n",
    "    X_train, X_test, y_train, y_test = train_test_split(X, y, test_size=test_size, random_state=42)\n",
    "    \n",
    "    X_ex = []\n",
    "    y_ex = []\n",
    "    df = dataframe.loc[subjects[-1]]\n",
    "    ids = len(df) - window_size\n",
    "    for j in range(ids):\n",
    "        X_ex.append(np.array(df[cols][j:j+window_size]))\n",
    "        y_ex.append(np.array(df[[\"y\"]][j+window_size-1:j+window_size]))\n",
    "    X_ex = np.array(X_ex)\n",
    "    y_ex = np.array(y_ex).reshape(-1,1)\n",
    "    \n",
    "    return X_train, X_test, y_train, y_test, X_ex, y_ex\n",
    "\n",
    "def crossvalidate_for_window(method, df = full_df_norm,  cols = temp_cols):\n",
    "    scores = []\n",
    "    loo = LeaveOneOut()\n",
    "    for train, test in loo.split(subjects):\n",
    "        X_train = []\n",
    "        y_train = []   \n",
    "        dfs_train = df.loc[subjects[train]]\n",
    "        for sub in subjects[train]:\n",
    "            df_temp = dfs_train.loc[(sub),]\n",
    "            ids = (len(df_temp) - window_size)\n",
    "            for j in range(ids):\n",
    "                X_train.append(np.array(df_temp[cols][j:j+window_size]))\n",
    "                y_train.append(np.array(df_temp[[\"y\"]][j+window_size-1:j+window_size]))\n",
    "\n",
    "        X_test = []\n",
    "        y_test = [] \n",
    "        dfs_test = df.loc[subjects[test]]\n",
    "        for sub in subjects[test]:\n",
    "            df_temp = dfs_test.loc[(sub),]\n",
    "            ids = (len(df_temp) - window_size)\n",
    "            for j in range(ids):\n",
    "                X_test.append(np.array(df_temp[cols][j:j+window_size]))\n",
    "                y_test.append(np.array(df_temp[[\"y\"]][j+window_size-1:j+window_size]))\n",
    "        \n",
    "        X_train = np.array(X_train)\n",
    "        y_train = (np.array(y_train).reshape(-1,)).astype(np.integer)\n",
    "        X_test = np.array(X_test)\n",
    "        y_test = np.array(y_test).reshape(-1,1)\n",
    "        \n",
    "        method = get_model()\n",
    "        method.fit(X_train, y_train, verbose = 1, epochs=15, batch_size=10)\n",
    "        scores.append(method.evaluate(X_test,y_test, verbose = 0))\n",
    "    print(scores)\n",
    "    print(np.mean(np.array(scores), axis = 0))\n",
    "    \n",
    "    \n",
    "def plot_window_predictions(method ,cols, dataframe = full_df, sub = subjects[0]):   \n",
    "    X = []\n",
    "    y = []\n",
    "    df = dataframe.loc[(sub),]\n",
    "    ids = (len(df) - window_size)\n",
    "    for j in range(ids):\n",
    "        X.append(np.array(df[cols][j:j+window_size]))\n",
    "        y.append(np.array(df[[\"y\"]][j+window_size-1:j+window_size]))\n",
    "    X = np.array(X)\n",
    "    y = np.array(y).reshape(-1,)    \n",
    "    temp_df = pd.DataFrame()\n",
    "    temp_df[\"true\"] = y\n",
    "    temp_df[\"predict\"] = method.predict(X).reshape(-1,)\n",
    "    temp_df[[\"true\",\"predict\"]].plot()\n",
    "\n",
    "def plot_all_window_predictions(method ,cols, df = full_df):\n",
    "    sub = SelectionSlider(options=subjects)\n",
    "    interact(lambda subject: plot_window_predictions(method ,cols, df, sub = subject), subject=sub)"
   ]
  },
  {
   "cell_type": "code",
   "execution_count": 35,
   "metadata": {},
   "outputs": [],
   "source": [
    "from keras import backend as K\n",
    "\n",
    "def f1(y_true, y_pred):\n",
    "    def recall(y_true, y_pred):\n",
    "        \"\"\"Recall metric.\n",
    "\n",
    "        Only computes a batch-wise average of recall.\n",
    "\n",
    "        Computes the recall, a metric for multi-label classification of\n",
    "        how many relevant items are selected.\n",
    "        \"\"\"\n",
    "        true_positives = K.sum(K.round(K.clip(y_true * y_pred, 0, 1)))\n",
    "        possible_positives = K.sum(K.round(K.clip(y_true, 0, 1)))\n",
    "        recall = true_positives / (possible_positives + K.epsilon())\n",
    "        return recall\n",
    "\n",
    "    def precision(y_true, y_pred):\n",
    "        \"\"\"Precision metric.\n",
    "\n",
    "        Only computes a batch-wise average of precision.\n",
    "\n",
    "        Computes the precision, a metric for multi-label classification of\n",
    "        how many selected items are relevant.\n",
    "        \"\"\"\n",
    "        true_positives = K.sum(K.round(K.clip(y_true * y_pred, 0, 1)))\n",
    "        predicted_positives = K.sum(K.round(K.clip(y_pred, 0, 1)))\n",
    "        precision = true_positives / (predicted_positives + K.epsilon())\n",
    "        return precision\n",
    "    precision = precision(y_true, y_pred)\n",
    "    recall = recall(y_true, y_pred)\n",
    "    return 2*((precision*recall)/(precision+recall+K.epsilon()))"
   ]
  },
  {
   "cell_type": "markdown",
   "metadata": {},
   "source": [
    " ---------------------------------------------------------\n",
    " \n",
    " \n",
    " "
   ]
  },
  {
   "cell_type": "markdown",
   "metadata": {},
   "source": [
    "### Temperature input"
   ]
  },
  {
   "cell_type": "code",
   "execution_count": 36,
   "metadata": {},
   "outputs": [],
   "source": [
    "X_train, X_test, y_train, y_test, X_ex, y_ex = train_test_window()"
   ]
  },
  {
   "cell_type": "markdown",
   "metadata": {},
   "source": [
    "## Keras NN"
   ]
  },
  {
   "cell_type": "code",
   "execution_count": 37,
   "metadata": {},
   "outputs": [
    {
     "data": {
      "text/plain": [
       "<keras.engine.sequential.Sequential at 0x11a2a0438>"
      ]
     },
     "execution_count": 37,
     "metadata": {},
     "output_type": "execute_result"
    }
   ],
   "source": [
    "def get_model():\n",
    "    model = Sequential()\n",
    "    optimizer = Adam(lr=0.1, decay=0.1)\n",
    "    model.add(InputLayer((window_size,2) ))\n",
    "    model.add(Reshape((window_size,2,1)))\n",
    "    model.add(Conv2D(16, kernel_size=(9, 2)))\n",
    "    model.add(LeakyReLU(alpha=0.2))\n",
    "    model.add(Reshape((-1,16)))\n",
    "    model.add(Conv1D(8,kernel_size = 8))\n",
    "    model.add(LeakyReLU(alpha=0.2))\n",
    "    model.add(Flatten())\n",
    "    model.add(Dense(64))\n",
    "    model.add(LeakyReLU(alpha=0.2))\n",
    "    model.add(Dropout(0.5))\n",
    "    model.add(Dense(16))\n",
    "    model.add(LeakyReLU(alpha=0.2))\n",
    "    model.add(Dropout(0.5))\n",
    "    model.add(Dense(1))\n",
    "    model.add(Activation(\"sigmoid\"))\n",
    "    model.compile(optimizer=optimizer, loss='binary_crossentropy', metrics = [f1, keras_metrics.precision(), keras_metrics.recall()])\n",
    "    #model.summary()\n",
    "    return model\n",
    "\n",
    "get_model()"
   ]
  },
  {
   "cell_type": "code",
   "execution_count": 38,
   "metadata": {
    "scrolled": true
   },
   "outputs": [
    {
     "name": "stdout",
     "output_type": "stream",
     "text": [
      "Train on 10809 samples, validate on 1908 samples\n",
      "Epoch 1/10\n",
      "10809/10809 [==============================] - 5s 425us/step - loss: 9.2184 - f1: 0.5163 - precision: 0.3928 - recall: 0.8514 - val_loss: 9.4919 - val_f1: 0.5608 - val_precision: 0.4046 - val_recall: 1.0000\n",
      "Epoch 2/10\n",
      "10809/10809 [==============================] - 3s 315us/step - loss: 9.5316 - f1: 0.5265 - precision: 0.3896 - recall: 0.9069 - val_loss: 9.4919 - val_f1: 0.5608 - val_precision: 0.4046 - val_recall: 1.0000\n",
      "Epoch 3/10\n",
      "10809/10809 [==============================] - 3s 301us/step - loss: 9.5332 - f1: 0.5356 - precision: 0.3925 - recall: 0.9405 - val_loss: 9.4919 - val_f1: 0.5608 - val_precision: 0.4046 - val_recall: 1.0000\n",
      "Epoch 4/10\n",
      "10809/10809 [==============================] - 4s 349us/step - loss: 9.4736 - f1: 0.5377 - precision: 0.3941 - recall: 0.9432 - val_loss: 9.4919 - val_f1: 0.5608 - val_precision: 0.4046 - val_recall: 1.0000\n",
      "Epoch 5/10\n",
      "10809/10809 [==============================] - 4s 342us/step - loss: 9.4929 - f1: 0.5389 - precision: 0.3935 - recall: 0.9501 - val_loss: 9.4919 - val_f1: 0.5608 - val_precision: 0.4046 - val_recall: 1.0000\n",
      "Epoch 6/10\n",
      "10809/10809 [==============================] - 4s 337us/step - loss: 9.5875 - f1: 0.5383 - precision: 0.3922 - recall: 0.9603 - val_loss: 9.4919 - val_f1: 0.5608 - val_precision: 0.4046 - val_recall: 1.0000\n",
      "Epoch 7/10\n",
      "10809/10809 [==============================] - 4s 340us/step - loss: 9.5927 - f1: 0.5378 - precision: 0.3917 - recall: 0.9526 - val_loss: 9.4919 - val_f1: 0.5608 - val_precision: 0.4046 - val_recall: 1.0000\n",
      "Epoch 8/10\n",
      "10809/10809 [==============================] - 4s 347us/step - loss: 9.5156 - f1: 0.5417 - precision: 0.3945 - recall: 0.9605 - val_loss: 9.4919 - val_f1: 0.5608 - val_precision: 0.4046 - val_recall: 1.0000\n",
      "Epoch 9/10\n",
      "10809/10809 [==============================] - 4s 392us/step - loss: 9.5656 - f1: 0.5406 - precision: 0.3931 - recall: 0.9621 - val_loss: 9.4919 - val_f1: 0.5608 - val_precision: 0.4046 - val_recall: 1.0000\n",
      "Epoch 10/10\n",
      "10809/10809 [==============================] - 4s 341us/step - loss: 9.5359 - f1: 0.5406 - precision: 0.3936 - recall: 0.9575 - val_loss: 9.4919 - val_f1: 0.5608 - val_precision: 0.4046 - val_recall: 1.0000\n"
     ]
    },
    {
     "data": {
      "text/plain": [
       "<keras.callbacks.History at 0x11a16a320>"
      ]
     },
     "execution_count": 38,
     "metadata": {},
     "output_type": "execute_result"
    }
   ],
   "source": [
    "model = get_model()\n",
    "model.fit(x=X_train, y=y_train, epochs=10, validation_data=[X_test, y_test], batch_size=10)"
   ]
  },
  {
   "cell_type": "code",
   "execution_count": 39,
   "metadata": {
    "scrolled": true
   },
   "outputs": [
    {
     "name": "stdout",
     "output_type": "stream",
     "text": [
      "466/466 [==============================] - 0s 50us/step\n"
     ]
    },
    {
     "data": {
      "text/plain": [
       "[9.955437770728917,\n",
       " 0.3871792478111169,\n",
       " 0.37553648068669526,\n",
       " 0.41201716738197425]"
      ]
     },
     "execution_count": 39,
     "metadata": {},
     "output_type": "execute_result"
    }
   ],
   "source": [
    "model.evaluate(X_ex,y_ex)"
   ]
  },
  {
   "cell_type": "code",
   "execution_count": 47,
   "metadata": {
    "scrolled": true
   },
   "outputs": [],
   "source": [
    "# crossvalidate_for_window(get_model())"
   ]
  },
  {
   "cell_type": "code",
   "execution_count": 48,
   "metadata": {},
   "outputs": [],
   "source": [
    "# plot_all_window_predictions(cols = temp_cols, df = full_df_norm, method = model)"
   ]
  },
  {
   "cell_type": "markdown",
   "metadata": {},
   "source": [
    "### Temperature + Time"
   ]
  },
  {
   "cell_type": "code",
   "execution_count": 44,
   "metadata": {},
   "outputs": [],
   "source": [
    "X_train, X_test, y_train, y_test, X_ex, y_ex = train_test_window(dataframe = full_df_norm, cols = temp_time_cols)"
   ]
  },
  {
   "cell_type": "markdown",
   "metadata": {},
   "source": [
    "## Keras NN"
   ]
  },
  {
   "cell_type": "code",
   "execution_count": 42,
   "metadata": {},
   "outputs": [],
   "source": [
    "def get_model():\n",
    "    model = Sequential()\n",
    "    optimizer = Adam(lr=0.05, decay=0.01)\n",
    "    model.add(InputLayer((window_size,3) ))\n",
    "    model.add(Reshape((window_size,3,1)))\n",
    "    model.add(Conv2D(16, kernel_size=(2, 2)))\n",
    "    model.add(MaxPooling2D(pool_size = (2,2)))\n",
    "    model.add(LeakyReLU(alpha=0.1))\n",
    "    model.add(Dropout(0.25))\n",
    "    model.add(Flatten())\n",
    "    model.add(Dense(16))\n",
    "    model.add(LeakyReLU(alpha=0.1))\n",
    "    model.add(Dropout(0.25))\n",
    "    model.add(Dense(1))\n",
    "    model.add(Activation(\"sigmoid\"))\n",
    "    model.compile(optimizer=optimizer, loss='binary_crossentropy', metrics = [keras_metrics.precision(), keras_metrics.recall()])\n",
    "    #model.summary()\n",
    "    return model"
   ]
  },
  {
   "cell_type": "code",
   "execution_count": 45,
   "metadata": {},
   "outputs": [
    {
     "name": "stdout",
     "output_type": "stream",
     "text": [
      "Train on 10809 samples, validate on 1908 samples\n",
      "Epoch 1/5\n",
      "10809/10809 [==============================] - 2s 191us/step - loss: 6.9321 - precision: 0.0737 - recall: 0.1788 - val_loss: 6.5216 - val_precision: 0.0000e+00 - val_recall: 0.0000e+00\n",
      "Epoch 2/5\n",
      "10809/10809 [==============================] - 1s 117us/step - loss: 6.3375 - precision: 0.0000e+00 - recall: 0.0000e+00 - val_loss: 6.5216 - val_precision: 0.0000e+00 - val_recall: 0.0000e+00\n",
      "Epoch 3/5\n",
      "10809/10809 [==============================] - 1s 119us/step - loss: 6.3375 - precision: 0.0000e+00 - recall: 0.0000e+00 - val_loss: 6.5216 - val_precision: 0.0000e+00 - val_recall: 0.0000e+00\n",
      "Epoch 4/5\n",
      "10809/10809 [==============================] - 1s 123us/step - loss: 6.3375 - precision: 0.0000e+00 - recall: 0.0000e+00 - val_loss: 6.5216 - val_precision: 0.0000e+00 - val_recall: 0.0000e+00\n",
      "Epoch 5/5\n",
      "10809/10809 [==============================] - 1s 116us/step - loss: 6.3375 - precision: 0.0000e+00 - recall: 0.0000e+00 - val_loss: 6.5216 - val_precision: 0.0000e+00 - val_recall: 0.0000e+00\n"
     ]
    },
    {
     "data": {
      "text/plain": [
       "<keras.callbacks.History at 0x11bf29668>"
      ]
     },
     "execution_count": 45,
     "metadata": {},
     "output_type": "execute_result"
    }
   ],
   "source": [
    "model = get_model()\n",
    "model.fit(x=X_train, y=y_train, epochs=5, validation_data=[X_test, y_test])"
   ]
  },
  {
   "cell_type": "code",
   "execution_count": 46,
   "metadata": {
    "scrolled": true
   },
   "outputs": [
    {
     "name": "stdout",
     "output_type": "stream",
     "text": [
      "466/466 [==============================] - 0s 44us/step\n"
     ]
    },
    {
     "data": {
      "text/plain": [
       "[6.0529328635444735, 0.0, 0.0]"
      ]
     },
     "execution_count": 46,
     "metadata": {},
     "output_type": "execute_result"
    }
   ],
   "source": [
    "model.evaluate(X_ex,y_ex)"
   ]
  },
  {
   "cell_type": "code",
   "execution_count": 49,
   "metadata": {},
   "outputs": [],
   "source": [
    "# crossvalidate_for_window(model, full_df_norm, temp_time_cols)"
   ]
  },
  {
   "cell_type": "code",
   "execution_count": 50,
   "metadata": {},
   "outputs": [],
   "source": [
    "# plot_all_window_predictions(cols = temp_time_cols, method= model, df = full_df_norm)"
   ]
  }
 ],
 "metadata": {
  "kernelspec": {
   "display_name": "Python 3",
   "language": "python",
   "name": "python3"
  },
  "language_info": {
   "codemirror_mode": {
    "name": "ipython",
    "version": 3
   },
   "file_extension": ".py",
   "mimetype": "text/x-python",
   "name": "python",
   "nbconvert_exporter": "python",
   "pygments_lexer": "ipython3",
   "version": "3.6.6"
  }
 },
 "nbformat": 4,
 "nbformat_minor": 2
}
